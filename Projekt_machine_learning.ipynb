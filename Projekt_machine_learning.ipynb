{
 "cells": [
  {
   "cell_type": "markdown",
   "id": "567c6a40",
   "metadata": {},
   "source": [
    "# Projekt Machine Learning - koło naukowe KWATERNION "
   ]
  },
  {
   "cell_type": "markdown",
   "id": "0196aa42",
   "metadata": {},
   "source": [
    "**Autor: Michał Błaszczykowski**"
   ]
  },
  {
   "cell_type": "markdown",
   "id": "7308569c",
   "metadata": {},
   "source": [
    "**Cel projektu:** Celem projektu jest znalezienie optymalnego modelu klasyfikacyjnego za pomocą wybranych algorytmów uczenia maszynowego. \n",
    "Wykorzystując zbiór danych **Car Evaluation** oraz dostępne predyktory należy zweryfikować klasę samochodu osobowego."
   ]
  },
  {
   "cell_type": "markdown",
   "id": "ad9bd2d7",
   "metadata": {},
   "source": [
    "## Opis zbioru badawczego"
   ]
  },
  {
   "cell_type": "code",
   "execution_count": 1,
   "id": "ffd658e7",
   "metadata": {},
   "outputs": [
    {
     "data": {
      "text/html": [
       "<div>\n",
       "<style scoped>\n",
       "    .dataframe tbody tr th:only-of-type {\n",
       "        vertical-align: middle;\n",
       "    }\n",
       "\n",
       "    .dataframe tbody tr th {\n",
       "        vertical-align: top;\n",
       "    }\n",
       "\n",
       "    .dataframe thead th {\n",
       "        text-align: right;\n",
       "    }\n",
       "</style>\n",
       "<table border=\"1\" class=\"dataframe\">\n",
       "  <thead>\n",
       "    <tr style=\"text-align: right;\">\n",
       "      <th></th>\n",
       "      <th>Buying</th>\n",
       "      <th>Maint</th>\n",
       "      <th>Doors</th>\n",
       "      <th>Persons</th>\n",
       "      <th>Lug_boot</th>\n",
       "      <th>Safety</th>\n",
       "      <th>Class</th>\n",
       "    </tr>\n",
       "  </thead>\n",
       "  <tbody>\n",
       "    <tr>\n",
       "      <th>0</th>\n",
       "      <td>vhigh</td>\n",
       "      <td>vhigh</td>\n",
       "      <td>2</td>\n",
       "      <td>2</td>\n",
       "      <td>small</td>\n",
       "      <td>med</td>\n",
       "      <td>unacc</td>\n",
       "    </tr>\n",
       "    <tr>\n",
       "      <th>1</th>\n",
       "      <td>vhigh</td>\n",
       "      <td>vhigh</td>\n",
       "      <td>2</td>\n",
       "      <td>2</td>\n",
       "      <td>small</td>\n",
       "      <td>high</td>\n",
       "      <td>unacc</td>\n",
       "    </tr>\n",
       "    <tr>\n",
       "      <th>2</th>\n",
       "      <td>vhigh</td>\n",
       "      <td>vhigh</td>\n",
       "      <td>2</td>\n",
       "      <td>2</td>\n",
       "      <td>med</td>\n",
       "      <td>low</td>\n",
       "      <td>unacc</td>\n",
       "    </tr>\n",
       "    <tr>\n",
       "      <th>3</th>\n",
       "      <td>vhigh</td>\n",
       "      <td>vhigh</td>\n",
       "      <td>2</td>\n",
       "      <td>2</td>\n",
       "      <td>med</td>\n",
       "      <td>med</td>\n",
       "      <td>unacc</td>\n",
       "    </tr>\n",
       "    <tr>\n",
       "      <th>4</th>\n",
       "      <td>vhigh</td>\n",
       "      <td>vhigh</td>\n",
       "      <td>2</td>\n",
       "      <td>2</td>\n",
       "      <td>med</td>\n",
       "      <td>high</td>\n",
       "      <td>unacc</td>\n",
       "    </tr>\n",
       "    <tr>\n",
       "      <th>5</th>\n",
       "      <td>vhigh</td>\n",
       "      <td>vhigh</td>\n",
       "      <td>2</td>\n",
       "      <td>2</td>\n",
       "      <td>big</td>\n",
       "      <td>low</td>\n",
       "      <td>unacc</td>\n",
       "    </tr>\n",
       "  </tbody>\n",
       "</table>\n",
       "</div>"
      ],
      "text/plain": [
       "  Buying  Maint Doors Persons Lug_boot Safety  Class\n",
       "0  vhigh  vhigh     2       2    small    med  unacc\n",
       "1  vhigh  vhigh     2       2    small   high  unacc\n",
       "2  vhigh  vhigh     2       2      med    low  unacc\n",
       "3  vhigh  vhigh     2       2      med    med  unacc\n",
       "4  vhigh  vhigh     2       2      med   high  unacc\n",
       "5  vhigh  vhigh     2       2      big    low  unacc"
      ]
     },
     "execution_count": 1,
     "metadata": {},
     "output_type": "execute_result"
    }
   ],
   "source": [
    "#Wczytanie podstawowych paczek.\n",
    "import numpy as np\n",
    "import pandas as pd\n",
    "car = pd.read_csv(\"car.csv\")\n",
    "#Na początku nazwiemy kolumny naszej ramki danych.\n",
    "car.columns = [\"Buying\",\"Maint\",\"Doors\",\"Persons\",\"Lug_boot\",\"Safety\",\"Class\"]\n",
    "#Wyświetlimy teraz kilka wierszy rozpatrywanego zbioru danych.\n",
    "car.head(6)"
   ]
  },
  {
   "cell_type": "markdown",
   "id": "ad84e233",
   "metadata": {},
   "source": [
    "**Opis zmiennych pochodzących ze zbioru danych:**\n",
    "* **Buying** - cena zakupu samochodu:\n",
    "    * **Vhigh** (bardzo wysoka)\n",
    "    * **high** (wysoka)\n",
    "    * **med** (średnia)\n",
    "    * **low** (niska)\n",
    "* **Maint** - cena utrzymania samochodu:\n",
    "    * **Vhigh** (bardzo wysoka)\n",
    "    * **high** (wysoka)\n",
    "    * **med** (średnia)\n",
    "    * **low** (niska)\n",
    "* **Doors** - liczba drzwi w samochodzie:\n",
    "    * **2** \n",
    "    * **3** \n",
    "    * **4** \n",
    "    * **5more** \n",
    "* **Persons** - liczba możliwych osób w samochodzie:\n",
    "    * **2**  \n",
    "    * **4** \n",
    "    * **more** \n",
    "* **Lug_boot** - pojemność bagażnika:\n",
    "    * **small** (mała) \n",
    "    * **med** (średnia)\n",
    "    * **big** (duża)\n",
    "* **Safety** - poziom bezpieczeństwa:\n",
    "    * **low** (niski)  \n",
    "    * **med** (średni)\n",
    "    * **high** (wysoki)\n",
    "* **Class** - klasa samochodu:\n",
    "    * **unacc** (nieakceptowalna)  \n",
    "    * **acc** (akceptowalna)\n",
    "    * **good** (dobra)\n",
    "    * **vgood** (bardzo dobra)\n",
    "    \n",
    "Zmienną zależną w naszym badaniu będzie zmienna **Class**. Pozostałe zmienne to predyktory."
   ]
  },
  {
   "cell_type": "code",
   "execution_count": 2,
   "id": "b1094950",
   "metadata": {},
   "outputs": [
    {
     "data": {
      "text/html": [
       "<div>\n",
       "<style scoped>\n",
       "    .dataframe tbody tr th:only-of-type {\n",
       "        vertical-align: middle;\n",
       "    }\n",
       "\n",
       "    .dataframe tbody tr th {\n",
       "        vertical-align: top;\n",
       "    }\n",
       "\n",
       "    .dataframe thead th {\n",
       "        text-align: right;\n",
       "    }\n",
       "</style>\n",
       "<table border=\"1\" class=\"dataframe\">\n",
       "  <thead>\n",
       "    <tr style=\"text-align: right;\">\n",
       "      <th></th>\n",
       "      <th>Buying</th>\n",
       "      <th>Maint</th>\n",
       "      <th>Doors</th>\n",
       "      <th>Persons</th>\n",
       "      <th>Lug_boot</th>\n",
       "      <th>Safety</th>\n",
       "      <th>Class</th>\n",
       "    </tr>\n",
       "  </thead>\n",
       "  <tbody>\n",
       "    <tr>\n",
       "      <th>count</th>\n",
       "      <td>1727</td>\n",
       "      <td>1727</td>\n",
       "      <td>1727</td>\n",
       "      <td>1727</td>\n",
       "      <td>1727</td>\n",
       "      <td>1727</td>\n",
       "      <td>1727</td>\n",
       "    </tr>\n",
       "    <tr>\n",
       "      <th>unique</th>\n",
       "      <td>4</td>\n",
       "      <td>4</td>\n",
       "      <td>4</td>\n",
       "      <td>3</td>\n",
       "      <td>3</td>\n",
       "      <td>3</td>\n",
       "      <td>4</td>\n",
       "    </tr>\n",
       "    <tr>\n",
       "      <th>top</th>\n",
       "      <td>high</td>\n",
       "      <td>high</td>\n",
       "      <td>3</td>\n",
       "      <td>4</td>\n",
       "      <td>med</td>\n",
       "      <td>med</td>\n",
       "      <td>unacc</td>\n",
       "    </tr>\n",
       "    <tr>\n",
       "      <th>freq</th>\n",
       "      <td>432</td>\n",
       "      <td>432</td>\n",
       "      <td>432</td>\n",
       "      <td>576</td>\n",
       "      <td>576</td>\n",
       "      <td>576</td>\n",
       "      <td>1209</td>\n",
       "    </tr>\n",
       "  </tbody>\n",
       "</table>\n",
       "</div>"
      ],
      "text/plain": [
       "       Buying Maint Doors Persons Lug_boot Safety  Class\n",
       "count    1727  1727  1727    1727     1727   1727   1727\n",
       "unique      4     4     4       3        3      3      4\n",
       "top      high  high     3       4      med    med  unacc\n",
       "freq      432   432   432     576      576    576   1209"
      ]
     },
     "execution_count": 2,
     "metadata": {},
     "output_type": "execute_result"
    }
   ],
   "source": [
    "car.dtypes\n",
    "#Wszystkie nasze zmienne są zmiennymi jakościowymi.\n",
    "car.shape\n",
    "car.describe()\n",
    "#Zbiór danych zawiera 1727 obserwacji."
   ]
  },
  {
   "cell_type": "markdown",
   "id": "88a2ec71",
   "metadata": {},
   "source": [
    "Z powyższego podsumowania odczytujemy, że dla wszystkich zmiennych niezależnych mamy praktycznie taką samą częstość występowania klas. Jeżeli chodzi o zmienną zależną to przeważającą klasą jest **unacc**, ponieważ stanowi około **70%** obserwacji."
   ]
  },
  {
   "cell_type": "code",
   "execution_count": 3,
   "id": "2d71ac19",
   "metadata": {},
   "outputs": [
    {
     "data": {
      "text/plain": [
       "Buying      0\n",
       "Maint       0\n",
       "Doors       0\n",
       "Persons     0\n",
       "Lug_boot    0\n",
       "Safety      0\n",
       "Class       0\n",
       "dtype: int64"
      ]
     },
     "execution_count": 3,
     "metadata": {},
     "output_type": "execute_result"
    }
   ],
   "source": [
    "car.isnull().sum()\n",
    "#Nasze zmienne nie zawierają braków danych\n",
    "#Z powyższej tabelki wynika również fakt, że w naszym zbiorze nie ma zmiennych stałych."
   ]
  },
  {
   "cell_type": "code",
   "execution_count": 4,
   "id": "f550275f",
   "metadata": {},
   "outputs": [],
   "source": [
    "from sklearn.model_selection import train_test_split\n",
    "X = car.drop(columns = ['Class'])\n",
    "Y = car['Class']\n",
    "one_hot_data = pd.get_dummies(X, drop_first = True)\n",
    "#Zbiór uczący będzie zawierał 2/3 wszystkich obserwacji, natomiast zbiór testowy 1/3 obserwacji.\n",
    "seed = 2020\n",
    "Xtrain, Xtest, Ytrain, Ytest = train_test_split(one_hot_data,Y, test_size = 1/3,random_state = seed)"
   ]
  },
  {
   "cell_type": "code",
   "execution_count": 5,
   "id": "fde66c4c",
   "metadata": {},
   "outputs": [
    {
     "name": "stdout",
     "output_type": "stream",
     "text": [
      "unacc    70.112945\n",
      "acc      22.241529\n",
      "vgood     3.822763\n",
      "good      3.822763\n",
      "Name: Class, dtype: float64\n",
      "unacc    69.791667\n",
      "acc      22.222222\n",
      "good      4.340278\n",
      "vgood     3.645833\n",
      "Name: Class, dtype: float64\n"
     ]
    }
   ],
   "source": [
    "print((Ytrain.value_counts()/Ytrain.shape[0])*100)\n",
    "print((Ytest.value_counts()/Ytest.shape[0])*100)\n",
    "#Mamy mniej więcej takie same proporcje w klasach zmiennej wynikowej na zbiorze uczącym i zbiorze testowym\n",
    "#Powinno wpłynąć to pozytywnie na klasyfikacje w naszych modelach"
   ]
  },
  {
   "cell_type": "markdown",
   "id": "c803830f",
   "metadata": {},
   "source": [
    "**Dane są przygotowane do rozpoczęcia budowy modeli klasyfikacyjnych.**"
   ]
  },
  {
   "cell_type": "markdown",
   "id": "5e6c91f5",
   "metadata": {},
   "source": [
    "**Sprawdzimy skuteczność klasyfikacji wykorzystując następuje metody:**\n",
    "* **Drzewo decyzyjne typu CART**\n",
    "* **Las losowy**\n",
    "* **Boosting (xgboost)**\n",
    "* **Liniowa analiza dyskryminacyjna**\n",
    "* **Metoda k-najbliższych sąsiadów**\n",
    "* **Naiwny klasyfikator Bayesa**"
   ]
  },
  {
   "cell_type": "markdown",
   "id": "88bb6f13",
   "metadata": {},
   "source": [
    "## Budowa modeli klasyfikacyjnych"
   ]
  },
  {
   "cell_type": "markdown",
   "id": "f06b6e48",
   "metadata": {},
   "source": [
    "### Drzewo decyzyjne typu CART"
   ]
  },
  {
   "cell_type": "code",
   "execution_count": 6,
   "id": "bf18871a",
   "metadata": {},
   "outputs": [
    {
     "name": "stdout",
     "output_type": "stream",
     "text": [
      "Dokładność predykcji wynosi: 0.9\n"
     ]
    }
   ],
   "source": [
    "from sklearn import tree\n",
    "from sklearn.metrics import accuracy_score\n",
    "model_tree = tree.DecisionTreeClassifier(random_state = seed)\n",
    "model_tree.fit(Xtrain,Ytrain)\n",
    "#Zbudowaliśmy model drzewa decyzyjnego na zbiorze uczącym, a teraz dokonamy predykcji na zbiorze testowym\n",
    "prediction_tree = model_tree.predict(Xtest)\n",
    "wynik = accuracy_score(Ytest,prediction_tree)\n",
    "print(\"Dokładność predykcji wynosi:\",np.round(wynik,2))"
   ]
  },
  {
   "cell_type": "markdown",
   "id": "b0792d55",
   "metadata": {},
   "source": [
    "Otrzymujemy skuteczność na poziomie około **90%** dla parametrów domyślnych, zatem jest to bardzo dobry wynik."
   ]
  },
  {
   "cell_type": "code",
   "execution_count": 7,
   "id": "d3340878",
   "metadata": {},
   "outputs": [
    {
     "data": {
      "image/png": "[encoded data removed]",
      "text/plain": [
       "<Figure size 432x288 with 1 Axes>"
      ]
     },
     "metadata": {
      "needs_background": "light"
     },
     "output_type": "display_data"
    }
   ],
   "source": [
    "rysunek = tree.plot_tree(model_tree)"
   ]
  },
  {
   "cell_type": "markdown",
   "id": "7c8bc31d",
   "metadata": {},
   "source": [
    "Powyższe drzewo jest bardzo złożoną strukturą, stąd sprawdzimy również skuteczność mniej złożonego modelu."
   ]
  },
  {
   "cell_type": "code",
   "execution_count": 8,
   "id": "cc81cdc5",
   "metadata": {},
   "outputs": [
    {
     "name": "stdout",
     "output_type": "stream",
     "text": [
      "Dokładność predykcji wynosi: 0.87\n"
     ]
    }
   ],
   "source": [
    "model_tree_2 = tree.DecisionTreeClassifier(max_depth = 8, min_samples_split = 20, min_samples_leaf = 5,\n",
    "                                           random_state = seed)\n",
    "model_tree_2.fit(Xtrain,Ytrain)\n",
    "prediction_tree_2 = model_tree_2.predict(Xtest)\n",
    "wynik_2 = accuracy_score(Ytest,prediction_tree_2)\n",
    "print(\"Dokładność predykcji wynosi:\",np.round(wynik_2,2))"
   ]
  },
  {
   "cell_type": "code",
   "execution_count": 9,
   "id": "72a80b11",
   "metadata": {},
   "outputs": [
    {
     "data": {
      "image/png": "[encoded data removed]",
      "text/plain": [
       "<Figure size 432x288 with 1 Axes>"
      ]
     },
     "metadata": {
      "needs_background": "light"
     },
     "output_type": "display_data"
    }
   ],
   "source": [
    "rysunek = tree.plot_tree(model_tree_2)"
   ]
  },
  {
   "cell_type": "markdown",
   "id": "2684fc55",
   "metadata": {},
   "source": [
    "Ustawiając maksymalną głębokość drzewa na **8**, minimalną liczbę obserwacji w węźle na **20**, a w liściu na **5** udaje się  otrzymać skuteczność na poziomie **87%**. Pomimo prostoty skuteczność jest mniejsza jedynie o **3%**."
   ]
  },
  {
   "cell_type": "markdown",
   "id": "18a9f4a1",
   "metadata": {},
   "source": [
    "## Las losowy"
   ]
  },
  {
   "cell_type": "markdown",
   "id": "6d392101",
   "metadata": {},
   "source": [
    "**Budujemy model klasyfikacyjny wykorzystując wartości domyślne dla wszystkich parametrów.**"
   ]
  },
  {
   "cell_type": "code",
   "execution_count": 10,
   "id": "de59cc5d",
   "metadata": {},
   "outputs": [
    {
     "name": "stdout",
     "output_type": "stream",
     "text": [
      "Dokładność predykcji wynosi: 0.89\n"
     ]
    }
   ],
   "source": [
    "from sklearn.ensemble import RandomForestClassifier\n",
    "seed = 2020\n",
    "model_forest = RandomForestClassifier(random_state = seed)\n",
    "model_forest.fit(Xtrain, Ytrain)\n",
    "prediction_forest = model_forest.predict(Xtest)\n",
    "wynik_forest = accuracy_score(Ytest,prediction_forest)\n",
    "print(\"Dokładność predykcji wynosi:\",np.round(wynik_forest,2))"
   ]
  },
  {
   "cell_type": "markdown",
   "id": "2c2c1772",
   "metadata": {},
   "source": [
    "**Sprawdzimy teraz dokładność predykcji zmieniając pewne parametry.**"
   ]
  },
  {
   "cell_type": "code",
   "execution_count": 11,
   "id": "6327bc92",
   "metadata": {},
   "outputs": [
    {
     "name": "stdout",
     "output_type": "stream",
     "text": [
      "Dokładność predykcji wynosi: 0.84\n"
     ]
    }
   ],
   "source": [
    "model_forest_2 = RandomForestClassifier(n_estimators = 1000, max_depth = 8, min_samples_split = 10,\n",
    "                                        min_samples_leaf = 5, random_state = seed)\n",
    "model_forest_2.fit(Xtrain, Ytrain)\n",
    "prediction_forest_2 = model_forest_2.predict(Xtest)\n",
    "wynik_forest_2 = accuracy_score(Ytest,prediction_forest_2)\n",
    "print(\"Dokładność predykcji wynosi:\",np.round(wynik_forest_2,2))"
   ]
  },
  {
   "cell_type": "markdown",
   "id": "f6807f3a",
   "metadata": {},
   "source": [
    "Ustawiliśmy liczbę drzew w lesie losowym na 1000 (10 razy więcej niż domyślnie), maksymalną głębokość na 8, minimalną liczbę obserwacji w węźle na 10, natomiast w liściu na 5.\n",
    "Zauważamy, że zmiana parametrów nie zwiększyła skuteczności naszego modelu.  Wyniki są gorsze niż dla  modelu zbudowanego dla wartości domyślnych."
   ]
  },
  {
   "cell_type": "markdown",
   "id": "98cdc440",
   "metadata": {},
   "source": [
    "## Boosting"
   ]
  },
  {
   "cell_type": "markdown",
   "id": "ef48586f",
   "metadata": {},
   "source": [
    "Sprawdzamy dokładność metody **Boosting** dla parametrów domyślnych."
   ]
  },
  {
   "cell_type": "code",
   "execution_count": 12,
   "id": "11fde3ef",
   "metadata": {},
   "outputs": [
    {
     "name": "stdout",
     "output_type": "stream",
     "text": [
      "Dokładność predykcji wynosi: 0.96\n"
     ]
    }
   ],
   "source": [
    "import warnings\n",
    "warnings.filterwarnings('ignore')\n",
    "from xgboost import XGBClassifier\n",
    "model_boosting = XGBClassifier(random_state = seed,verbosity = 0)\n",
    "model_boosting.fit(Xtrain, Ytrain)\n",
    "prediction_boosting = model_boosting.predict(Xtest)\n",
    "wynik_boosting = accuracy_score(Ytest,prediction_boosting)\n",
    "print(\"Dokładność predykcji wynosi:\",np.round(wynik_boosting,2))"
   ]
  },
  {
   "cell_type": "markdown",
   "id": "4116ee64",
   "metadata": {},
   "source": [
    "**Dokładność metody Boosting jest o wiele lepsza od dokładności poprzednich metod.** Zmienimy teraz kilka parametrów i sprawdzimy jak zachowa się model i jego skuteczność klasyfikacji."
   ]
  },
  {
   "cell_type": "code",
   "execution_count": 13,
   "id": "3f06f14c",
   "metadata": {},
   "outputs": [
    {
     "name": "stdout",
     "output_type": "stream",
     "text": [
      "Dokładność predykcji wynosi: 0.95\n"
     ]
    }
   ],
   "source": [
    "model_boosting_2 = XGBClassifier(random_state = seed, verbosity = 0, booster = \"gbtree\", max_depth = 10)\n",
    "model_boosting_2.fit(Xtrain, Ytrain)\n",
    "prediction_boosting_2 = model_boosting_2.predict(Xtest)\n",
    "wynik_boosting_2 = accuracy_score(Ytest,prediction_boosting_2)\n",
    "print(\"Dokładność predykcji wynosi:\",np.round(wynik_boosting_2,2))"
   ]
  },
  {
   "cell_type": "markdown",
   "id": "10e6d8bd",
   "metadata": {},
   "source": [
    "**Jak widać mamy minimalny spadek skuteczności dla drugiego modelu, ale nadal wyniki są bardzo dobre.**"
   ]
  },
  {
   "cell_type": "markdown",
   "id": "0ee1fe38",
   "metadata": {},
   "source": [
    "## LDA - Liniowa analiza dyskryminacyjna"
   ]
  },
  {
   "cell_type": "markdown",
   "id": "718e5ee7",
   "metadata": {},
   "source": [
    "W **liniowej analizie dykryminacyjnej** nie będziemy zmieniać wartości parametrów modelu, ponieważ jest ich bardzo mało i nie powinny wpłynąć znacząco na wyniki predykcji w naszym zadaniu."
   ]
  },
  {
   "cell_type": "code",
   "execution_count": 14,
   "id": "d4dcb1b5",
   "metadata": {},
   "outputs": [
    {
     "name": "stdout",
     "output_type": "stream",
     "text": [
      "Dokładność predykcji wynosi: 0.9\n"
     ]
    }
   ],
   "source": [
    "from sklearn.discriminant_analysis import LinearDiscriminantAnalysis \n",
    "model_lda = LinearDiscriminantAnalysis()\n",
    "model_lda.fit(Xtrain, Ytrain)\n",
    "prediction_lda = model_lda.predict(Xtest)\n",
    "wynik_lda = accuracy_score(Ytest,prediction_lda)\n",
    "print(\"Dokładność predykcji wynosi:\", np.round(wynik_lda,2))"
   ]
  },
  {
   "cell_type": "markdown",
   "id": "4c4ce532",
   "metadata": {},
   "source": [
    "**Skuteczność dla LDA na poziomie 90%.**"
   ]
  },
  {
   "cell_type": "markdown",
   "id": "620d6fa3",
   "metadata": {},
   "source": [
    "## Metoda K-najbliższych sąsiadów"
   ]
  },
  {
   "cell_type": "code",
   "execution_count": 15,
   "id": "fc01db38",
   "metadata": {},
   "outputs": [
    {
     "name": "stdout",
     "output_type": "stream",
     "text": [
      "Dokładność predykcji wynosi: 0.83\n"
     ]
    }
   ],
   "source": [
    "from sklearn.neighbors import KNeighborsClassifier\n",
    "model_knn = KNeighborsClassifier()\n",
    "model_knn.fit(Xtrain, Ytrain)\n",
    "prediction_knn = model_knn.predict(Xtest)\n",
    "wynik_knn = accuracy_score(Ytest,prediction_knn)\n",
    "print(\"Dokładność predykcji wynosi:\", np.round(wynik_knn,2))"
   ]
  },
  {
   "cell_type": "markdown",
   "id": "73371b22",
   "metadata": {},
   "source": [
    "**Otrzymujemy skuteczność wynoszącą 83%. Domyślna liczba \"sąsiadów\" wynosi 5.**"
   ]
  },
  {
   "cell_type": "code",
   "execution_count": 16,
   "id": "b16d28bc",
   "metadata": {},
   "outputs": [
    {
     "name": "stdout",
     "output_type": "stream",
     "text": [
      "Dokładność predykcji wynosi: 0.84\n"
     ]
    }
   ],
   "source": [
    "model_knn_2 = KNeighborsClassifier(n_neighbors = 10)\n",
    "model_knn_2.fit(Xtrain, Ytrain)\n",
    "prediction_knn_2 = model_knn_2.predict(Xtest)\n",
    "wynik_knn_2 = accuracy_score(Ytest,prediction_knn_2)\n",
    "print(\"Dokładność predykcji wynosi:\", np.round(wynik_knn_2,2))"
   ]
  },
  {
   "cell_type": "markdown",
   "id": "35260bee",
   "metadata": {},
   "source": [
    "**Dla podwojonej liczby \"sąsiadów\" otrzymujemy wynik lepszy o 1% jeżeli chodzi o skuteczność.**"
   ]
  },
  {
   "cell_type": "markdown",
   "id": "e8471752",
   "metadata": {},
   "source": [
    "## Naiwny klasyfikator Bayesa"
   ]
  },
  {
   "cell_type": "markdown",
   "id": "0a4b5e8b",
   "metadata": {},
   "source": [
    "Podobnie jak w **LDA** wykorzystamy tutaj tylko wartości domyślne parametrów modelu klasyfikacyjnego."
   ]
  },
  {
   "cell_type": "code",
   "execution_count": 17,
   "id": "439be985",
   "metadata": {},
   "outputs": [
    {
     "name": "stdout",
     "output_type": "stream",
     "text": [
      "Dokładność predykcji wynosi: 0.48\n"
     ]
    }
   ],
   "source": [
    "from sklearn.naive_bayes import GaussianNB \n",
    "model_bayes = GaussianNB()\n",
    "model_bayes.fit(Xtrain, Ytrain)\n",
    "prediction_bayes = model_bayes.predict(Xtest)\n",
    "wynik_bayes = accuracy_score(Ytest,prediction_bayes)\n",
    "print(\"Dokładność predykcji wynosi:\", np.round(wynik_bayes,2))"
   ]
  },
  {
   "cell_type": "markdown",
   "id": "92fbb855",
   "metadata": {},
   "source": [
    "**Jak widać naiwny klasyfikator Bayesa kompletnie nie poradził sobie z zadaniem klasyfikacyjnym. Jego skuteczność wynosi 48%.** "
   ]
  },
  {
   "cell_type": "markdown",
   "id": "a9f8d787",
   "metadata": {},
   "source": [
    "## Podsumowanie metod klasyfikacyjnych i ich skuteczności"
   ]
  },
  {
   "cell_type": "markdown",
   "id": "06b9ef58",
   "metadata": {},
   "source": [
    "**Skuteczność:**\n",
    "1. **Model Xgboost - 96%**\n",
    "2. **Drzewo Cart i LDA - 90%**\n",
    "3. **Las losowy - 89%**\n",
    "4. **Metoda k-najbliższych sąsiadów - 83%**\n",
    "5. **Naiwny klasyfikator Bayesa - 48%**\n",
    "\n",
    "\n",
    "    "
   ]
  },
  {
   "cell_type": "markdown",
   "id": "730b9373",
   "metadata": {},
   "source": [
    "W większości przypadków klasyfikacja przebiegła poprawnie i ogólnie można powiedzieć, że wyniki były dobre.\n",
    "**Za model optymalny przyjmujemy oczywiście model Xgboost, który bezapelacyjnie okazał się najlepszy.**"
   ]
  }
 ],
 "metadata": {
  "kernelspec": {
   "display_name": "Python 3 (ipykernel)",
   "language": "python",
   "name": "python3"
  },
  "language_info": {
   "codemirror_mode": {
    "name": "ipython",
    "version": 3
   },
   "file_extension": ".py",
   "mimetype": "text/x-python",
   "name": "python",
   "nbconvert_exporter": "python",
   "pygments_lexer": "ipython3",
   "version": "3.8.8"
  }
 },
 "nbformat": 4,
 "nbformat_minor": 5
}
